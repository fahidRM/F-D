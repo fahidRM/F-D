{
 "cells": [
  {
   "metadata": {},
   "cell_type": "markdown",
   "source": [
    "## Data Exploration\n",
    "\n",
    "This notebook includes the code used for data-exploration. It has a cell to pull pip depencenies and some comments on my thinking process.\n",
    "\n",
    "\n",
    "_IMPORTANT_: Please ensure that the variable `SAMPLES_DIR` points to the directory that contains all the JSON samples before running this notebook. Please make sure that this is not the same directory the ETL pipeline will point to as duplicate files may be created during this exploration."
   ],
   "id": "8fdfea86289b8577"
  },
  {
   "metadata": {},
   "cell_type": "markdown",
   "source": "### A summary of the process",
   "id": "87ff55bfc9027413"
  },
  {
   "metadata": {},
   "cell_type": "markdown",
   "source": "![If this text is showing, please refer to root_dir/images/0_inspection.jpg](./images/0_inspection.jpg)\n",
   "id": "e2a4fd8bfbfb67e5"
  },
  {
   "metadata": {
    "ExecuteTime": {
     "end_time": "2025-10-06T18:54:54.547677Z",
     "start_time": "2025-10-06T18:54:53.830276Z"
    }
   },
   "cell_type": "code",
   "source": "!pip install genson json-repair pandas",
   "id": "5ee57d892b53f775",
   "outputs": [
    {
     "name": "stdout",
     "output_type": "stream",
     "text": [
      "Requirement already satisfied: genson in ./.venv/lib/python3.13/site-packages (1.3.0)\r\n",
      "Requirement already satisfied: json-repair in ./.venv/lib/python3.13/site-packages (0.51.0)\r\n",
      "Requirement already satisfied: pandas in ./.venv/lib/python3.13/site-packages (2.3.3)\r\n",
      "Requirement already satisfied: numpy>=1.26.0 in ./.venv/lib/python3.13/site-packages (from pandas) (2.3.3)\r\n",
      "Requirement already satisfied: python-dateutil>=2.8.2 in ./.venv/lib/python3.13/site-packages (from pandas) (2.9.0.post0)\r\n",
      "Requirement already satisfied: pytz>=2020.1 in ./.venv/lib/python3.13/site-packages (from pandas) (2025.2)\r\n",
      "Requirement already satisfied: tzdata>=2022.7 in ./.venv/lib/python3.13/site-packages (from pandas) (2025.2)\r\n",
      "Requirement already satisfied: six>=1.5 in ./.venv/lib/python3.13/site-packages (from python-dateutil>=2.8.2->pandas) (1.17.0)\r\n"
     ]
    }
   ],
   "execution_count": 2
  },
  {
   "metadata": {
    "ExecuteTime": {
     "end_time": "2025-10-06T18:54:52.973873Z",
     "start_time": "2025-10-06T18:54:52.533080Z"
    }
   },
   "cell_type": "code",
   "source": [
    "\n",
    "from genson import SchemaBuilder\n",
    "import glob\n",
    "import json\n",
    "from json_repair import repair_json\n",
    "import os\n",
    "import pandas as pd\n"
   ],
   "id": "dbcb6b07c6ca4e2d",
   "outputs": [],
   "execution_count": 1
  },
  {
   "metadata": {
    "ExecuteTime": {
     "end_time": "2025-10-06T18:28:35.653070Z",
     "start_time": "2025-10-06T18:28:35.651898Z"
    }
   },
   "cell_type": "code",
   "source": "",
   "id": "f582cb22988dea28",
   "outputs": [],
   "execution_count": null
  },
  {
   "metadata": {},
   "cell_type": "markdown",
   "source": [
    "### Configuration\n",
    "\n",
    "Update the samples directory to the folder where all your JSON samples are stored."
   ],
   "id": "8a2d7072fddc1bd9"
  },
  {
   "metadata": {
    "ExecuteTime": {
     "end_time": "2025-10-06T18:28:35.663580Z",
     "start_time": "2025-10-06T18:28:35.662240Z"
    }
   },
   "cell_type": "code",
   "source": "SAMPLES_DIR = 'data/mixed/'",
   "id": "f1cde1eebf6f9cb6",
   "outputs": [],
   "execution_count": 2
  },
  {
   "metadata": {},
   "cell_type": "markdown",
   "source": [
    "### Global variables\n",
    "\n",
    "- Track the max no of programs and tasks in a JSON payload to understand the nesting depth required for normalization."
   ],
   "id": "664097e43440fe03"
  },
  {
   "metadata": {
    "ExecuteTime": {
     "end_time": "2025-10-06T18:28:35.672367Z",
     "start_time": "2025-10-06T18:28:35.671124Z"
    }
   },
   "cell_type": "code",
   "source": [
    "max_advocacy_programs = 0\n",
    "max_tasks_completed = 0\n"
   ],
   "id": "cb4a3bc3cac8b99d",
   "outputs": [],
   "execution_count": 3
  },
  {
   "metadata": {},
   "cell_type": "markdown",
   "source": "",
   "id": "3f2363ea869d1fb4"
  },
  {
   "metadata": {},
   "cell_type": "markdown",
   "source": [
    "### Discussion\n",
    "\n",
    "\n",
    "`Genson` was used to infer the schema for the JSON samples. The benefits are:\n",
    "- To understand the structure of the JSON files.\n",
    "- To understand what sort of data has been provided in terms of data types.\n",
    "- To understand if there are missing fields across samples - fields present in all docs will be flagged as required\n",
    "- To create a rough schema which we could update for validation purposes down the line.\n"
   ],
   "id": "8a3666f48833e0a9"
  },
  {
   "cell_type": "code",
   "id": "initial_id",
   "metadata": {
    "collapsed": true,
    "ExecuteTime": {
     "end_time": "2025-10-06T18:28:35.682992Z",
     "start_time": "2025-10-06T18:28:35.680577Z"
    }
   },
   "source": [
    "def infer_schema_from_samples(samples_dir, on_sample_read=None):\n",
    "    builder = SchemaBuilder()\n",
    "    for filename in os.listdir(samples_dir):\n",
    "        if filename.endswith('.json'):\n",
    "            with open(os.path.join(samples_dir, filename), 'r', encoding='utf-8') as f:\n",
    "                try:\n",
    "                    data = json.load(f)\n",
    "                    builder.add_object(data)\n",
    "                    if on_sample_read is not None:\n",
    "                        on_sample_read(data)\n",
    "                except Exception as e:\n",
    "                    pass\n",
    "\n",
    "    return builder.to_schema()\n"
   ],
   "outputs": [],
   "execution_count": 4
  },
  {
   "metadata": {
    "ExecuteTime": {
     "end_time": "2025-10-06T18:28:35.690897Z",
     "start_time": "2025-10-06T18:28:35.689019Z"
    }
   },
   "cell_type": "code",
   "source": [
    "def analyse_nesting(json_payload):\n",
    "    global max_advocacy_programs, max_tasks_completed\n",
    "\n",
    "    programs = json_payload.get('advocacy_programs', [])\n",
    "    if isinstance(programs, list) and len(programs) > 0:\n",
    "        if len(programs) > max_advocacy_programs:\n",
    "            max_advocacy_programs = len(programs)\n",
    "\n",
    "        for program in programs:\n",
    "            tasks = program.get('tasks_completed', [])\n",
    "            if isinstance(tasks, list) and len(tasks) > max_tasks_completed:\n",
    "                max_tasks_completed = len(tasks)"
   ],
   "id": "a432cfd344a89914",
   "outputs": [],
   "execution_count": 5
  },
  {
   "metadata": {
    "ExecuteTime": {
     "end_time": "2025-10-06T18:28:35.697603Z",
     "start_time": "2025-10-06T18:28:35.695640Z"
    }
   },
   "cell_type": "code",
   "source": [
    "def perform_structural_fix(file_path):\n",
    "    broken_json = \"\"\n",
    "    fixed_file_path =  file_path.replace('.json', '_fixed.json')\n",
    "    with open(file_path, 'r', encoding='utf-8') as f:\n",
    "        broken_json = f.read()\n",
    "\n",
    "    fixed_json = repair_json(broken_json)\n",
    "    if fixed_json:\n",
    "        with open(fixed_file_path, 'w', encoding='utf-8') as f:\n",
    "            f.write(fixed_json)\n",
    "        return True, fixed_file_path\n",
    "    return False, \"\""
   ],
   "id": "43f75190e0e393c1",
   "outputs": [],
   "execution_count": 6
  },
  {
   "metadata": {
    "ExecuteTime": {
     "end_time": "2025-10-06T18:28:35.705003Z",
     "start_time": "2025-10-06T18:28:35.702248Z"
    }
   },
   "cell_type": "code",
   "source": [
    "def load_samples_df(samples_dir):\n",
    "    structural_issue_count = 0\n",
    "    needs_intervention = 0\n",
    "\n",
    "    batch_files = glob.glob(samples_dir + '/*.json')\n",
    "    batch_df = []\n",
    "    for filename in batch_files:\n",
    "        structural_fix_failed = False\n",
    "        file_to_read = filename\n",
    "        while not structural_fix_failed:\n",
    "            try:\n",
    "                df = pd.read_json(file_to_read)\n",
    "                batch_df.append(df)\n",
    "                break\n",
    "            except:\n",
    "                structural_issue_count += 1\n",
    "                status, fixed_file_path = perform_structural_fix(filename)\n",
    "                file_to_read = fixed_file_path\n",
    "                if not status:\n",
    "                    needs_intervention += 1\n",
    "                    structural_fix_failed = True\n",
    "\n",
    "\n",
    "    return pd.concat(batch_df), {'issue': structural_issue_count, 'needs_intervention': needs_intervention}"
   ],
   "id": "ec703e2983888009",
   "outputs": [],
   "execution_count": 7
  },
  {
   "metadata": {
    "ExecuteTime": {
     "end_time": "2025-10-06T18:28:49.359897Z",
     "start_time": "2025-10-06T18:28:35.710177Z"
    }
   },
   "cell_type": "code",
   "source": [
    "schema = infer_schema_from_samples(SAMPLES_DIR, on_sample_read=analyse_nesting)\n",
    "samples_df, structure = load_samples_df(SAMPLES_DIR)"
   ],
   "id": "47b6298d5b5c6f33",
   "outputs": [],
   "execution_count": 8
  },
  {
   "metadata": {},
   "cell_type": "markdown",
   "source": [
    "### Findings\n",
    "\n",
    "\n",
    "#### Structure:\n",
    "The following can be observed of the document structure:\n",
    "- Records hold information of a single Program and a single activity within that program.\n",
    "- Some JSON files have structural issues requiring correction before they can be processed."
   ],
   "id": "36e71ae56e05d248"
  },
  {
   "metadata": {
    "ExecuteTime": {
     "end_time": "2025-10-06T18:28:49.376424Z",
     "start_time": "2025-10-06T18:28:49.374645Z"
    }
   },
   "cell_type": "code",
   "source": [
    "print(\"\\nFiles with Structural Issues: \", structure[\"issue\"])\n",
    "print(\"\\nFiles needing manual intervention: \", structure[\"needs_intervention\"])\n",
    "print(\"\\nNesting Depth Analysis: \", f\"\\n\\tMax Advocacy Programs: {max_advocacy_programs}, \\n\\tMax Tasks Completed: {max_tasks_completed}\")"
   ],
   "id": "446cad69a14d364f",
   "outputs": [
    {
     "name": "stdout",
     "output_type": "stream",
     "text": [
      "\n",
      "Files with Structural Issues:  222\n",
      "\n",
      "Files needing manual intervention:  0\n",
      "\n",
      "Nesting Depth Analysis:  \n",
      "\tMax Advocacy Programs: 1, \n",
      "\tMax Tasks Completed: 1\n"
     ]
    }
   ],
   "execution_count": 9
  },
  {
   "metadata": {},
   "cell_type": "markdown",
   "source": [
    "#### Schema:\n",
    "\n",
    "The generated schema showed us that:\n",
    "\n",
    "- Our data is roughly consistent structurally across samples: There are no columns that have been missed out in some samples or added to a select few. Additionally, there are no columns that have been mispelt in some samples.\n",
    "- `name`, `email`, `tiktok_handle`, `joined_at`, `post_url` & `program_id`: are always strings indicating that the errors contained within them would be related to content accuracy and not type.\n",
    "- `advocacy_programs` & `tasks_completed`: are always arrays indicating that the errors contained within them would be related to content accuracy and not type.\n",
    "- `user_id`, `instagram_handle`, `task_id`, & `comments`: contain null values\n",
    "\n",
    "similarly, we can see the numeric fields and where nulls are present."
   ],
   "id": "b1c6e16d4d0f0983"
  },
  {
   "metadata": {
    "ExecuteTime": {
     "end_time": "2025-10-06T18:28:49.406230Z",
     "start_time": "2025-10-06T18:28:49.402251Z"
    }
   },
   "cell_type": "code",
   "source": "display(schema)",
   "id": "1b88731428b054f",
   "outputs": [
    {
     "data": {
      "text/plain": [
       "{'$schema': 'http://json-schema.org/schema#',\n",
       " 'type': 'object',\n",
       " 'properties': {'user_id': {'type': ['null', 'string']},\n",
       "  'name': {'type': 'string'},\n",
       "  'email': {'type': 'string'},\n",
       "  'instagram_handle': {'type': ['null', 'string']},\n",
       "  'tiktok_handle': {'type': 'string'},\n",
       "  'joined_at': {'type': 'string'},\n",
       "  'advocacy_programs': {'type': 'array',\n",
       "   'items': {'type': 'object',\n",
       "    'properties': {'program_id': {'type': 'string'},\n",
       "     'brand': {'type': ['integer', 'string']},\n",
       "     'tasks_completed': {'type': 'array',\n",
       "      'items': {'type': 'object',\n",
       "       'properties': {'task_id': {'type': ['null', 'string']},\n",
       "        'platform': {'type': ['integer', 'string']},\n",
       "        'post_url': {'type': 'string'},\n",
       "        'likes': {'type': ['integer', 'string']},\n",
       "        'comments': {'type': ['integer', 'null']},\n",
       "        'shares': {'type': 'integer'},\n",
       "        'reach': {'type': 'integer'}},\n",
       "       'required': ['comments',\n",
       "        'likes',\n",
       "        'platform',\n",
       "        'post_url',\n",
       "        'reach',\n",
       "        'shares',\n",
       "        'task_id']}},\n",
       "     'total_sales_attributed': {'type': ['number', 'string']}},\n",
       "    'required': ['brand',\n",
       "     'program_id',\n",
       "     'tasks_completed',\n",
       "     'total_sales_attributed']}}},\n",
       " 'required': ['advocacy_programs',\n",
       "  'email',\n",
       "  'instagram_handle',\n",
       "  'joined_at',\n",
       "  'name',\n",
       "  'tiktok_handle',\n",
       "  'user_id']}"
      ]
     },
     "metadata": {},
     "output_type": "display_data"
    }
   ],
   "execution_count": 10
  },
  {
   "metadata": {},
   "cell_type": "markdown",
   "source": [
    "#### Data description:\n",
    "\n",
    "Additionally, we used pandas to get a description of the data to understand the distribution of values in each column.\n",
    "\n",
    "- Some columns had null values\n",
    "- Some columns had unexpected values such as \"???\" in name, giving an idea of what sort of validation will be needed\n",
    "- Some columns  had repeated values"
   ],
   "id": "1f123ff923a4e8"
  },
  {
   "metadata": {
    "ExecuteTime": {
     "end_time": "2025-10-06T18:31:06.354620Z",
     "start_time": "2025-10-06T18:30:55.874680Z"
    }
   },
   "cell_type": "code",
   "source": "display(samples_df.describe(include='all'))",
   "id": "1b5b0e1b5ccb35c3",
   "outputs": [
    {
     "data": {
      "text/plain": [
       "                                     user_id   name          email  \\\n",
       "count                                   5489  10222          10222   \n",
       "unique                                  5465   5217           5717   \n",
       "top     ff389b31-4090-451a-aeee-1b87283034dd    ???  invalid-email   \n",
       "freq                                       2   4985           4463   \n",
       "\n",
       "       instagram_handle  tiktok_handle   joined_at  \\\n",
       "count              5220          10222       10222   \n",
       "unique             5202           5206        5334   \n",
       "top            @Cathy36  #error_handle  not-a-date   \n",
       "freq                  2           4997        4880   \n",
       "\n",
       "                                        advocacy_programs  \n",
       "count                                               10222  \n",
       "unique                                               9992  \n",
       "top     {'program_id': '', 'brand': 'Luettgen, Gutmann...  \n",
       "freq                                                    2  "
      ],
      "text/html": [
       "<div>\n",
       "<style scoped>\n",
       "    .dataframe tbody tr th:only-of-type {\n",
       "        vertical-align: middle;\n",
       "    }\n",
       "\n",
       "    .dataframe tbody tr th {\n",
       "        vertical-align: top;\n",
       "    }\n",
       "\n",
       "    .dataframe thead th {\n",
       "        text-align: right;\n",
       "    }\n",
       "</style>\n",
       "<table border=\"1\" class=\"dataframe\">\n",
       "  <thead>\n",
       "    <tr style=\"text-align: right;\">\n",
       "      <th></th>\n",
       "      <th>user_id</th>\n",
       "      <th>name</th>\n",
       "      <th>email</th>\n",
       "      <th>instagram_handle</th>\n",
       "      <th>tiktok_handle</th>\n",
       "      <th>joined_at</th>\n",
       "      <th>advocacy_programs</th>\n",
       "    </tr>\n",
       "  </thead>\n",
       "  <tbody>\n",
       "    <tr>\n",
       "      <th>count</th>\n",
       "      <td>5489</td>\n",
       "      <td>10222</td>\n",
       "      <td>10222</td>\n",
       "      <td>5220</td>\n",
       "      <td>10222</td>\n",
       "      <td>10222</td>\n",
       "      <td>10222</td>\n",
       "    </tr>\n",
       "    <tr>\n",
       "      <th>unique</th>\n",
       "      <td>5465</td>\n",
       "      <td>5217</td>\n",
       "      <td>5717</td>\n",
       "      <td>5202</td>\n",
       "      <td>5206</td>\n",
       "      <td>5334</td>\n",
       "      <td>9992</td>\n",
       "    </tr>\n",
       "    <tr>\n",
       "      <th>top</th>\n",
       "      <td>ff389b31-4090-451a-aeee-1b87283034dd</td>\n",
       "      <td>???</td>\n",
       "      <td>invalid-email</td>\n",
       "      <td>@Cathy36</td>\n",
       "      <td>#error_handle</td>\n",
       "      <td>not-a-date</td>\n",
       "      <td>{'program_id': '', 'brand': 'Luettgen, Gutmann...</td>\n",
       "    </tr>\n",
       "    <tr>\n",
       "      <th>freq</th>\n",
       "      <td>2</td>\n",
       "      <td>4985</td>\n",
       "      <td>4463</td>\n",
       "      <td>2</td>\n",
       "      <td>4997</td>\n",
       "      <td>4880</td>\n",
       "      <td>2</td>\n",
       "    </tr>\n",
       "  </tbody>\n",
       "</table>\n",
       "</div>"
      ]
     },
     "metadata": {},
     "output_type": "display_data"
    }
   ],
   "execution_count": 13
  },
  {
   "metadata": {},
   "cell_type": "markdown",
   "source": "Null checks",
   "id": "180389d439919811"
  },
  {
   "metadata": {
    "ExecuteTime": {
     "end_time": "2025-10-06T18:31:06.433613Z",
     "start_time": "2025-10-06T18:31:06.423219Z"
    }
   },
   "cell_type": "code",
   "source": "print(samples_df.isnull().sum())",
   "id": "4747fa42f11b564d",
   "outputs": [
    {
     "name": "stdout",
     "output_type": "stream",
     "text": [
      "user_id              4733\n",
      "name                    0\n",
      "email                   0\n",
      "instagram_handle     5002\n",
      "tiktok_handle           0\n",
      "joined_at               0\n",
      "advocacy_programs       0\n",
      "dtype: int64\n"
     ]
    }
   ],
   "execution_count": 14
  },
  {
   "metadata": {
    "ExecuteTime": {
     "end_time": "2025-10-06T18:53:46.813348Z",
     "start_time": "2025-10-06T18:53:46.666038Z"
    }
   },
   "cell_type": "code",
   "source": [
    "\"\"\"\n",
    "Rough normalisation to allow us inspect nested fields - see etl pipeline for production ready version\n",
    "\"\"\"\n",
    "def normalise_data(df):\n",
    "    df = df.melt(\n",
    "        id_vars=['user_id', 'name', 'email', 'instagram_handle', 'tiktok_handle', 'joined_at'],\n",
    "        value_vars=['advocacy_programs']).drop('variable', axis=1)\n",
    "    df = df.reset_index(drop=True)\n",
    "    normalised_advocacy_programs = pd.json_normalize(df['value']).fillna(\"\").reset_index(drop=True)\n",
    "    df = df.join(normalised_advocacy_programs)\n",
    "    df = df.explode('tasks_completed')\n",
    "    is_duplicated = df.index.duplicated(keep='first')\n",
    "    df.loc[is_duplicated, 'total_sales_attributed'] = 0\n",
    "    df = df.reset_index(drop=True)\n",
    "    normalised_tasks_completed = pd.json_normalize(df['tasks_completed'])\n",
    "    df_unique_tasks = normalised_tasks_completed.drop_duplicates(subset=['task_id', 'platform', 'post_url', 'likes', 'comments', 'shares', 'reach'])\n",
    "    df = df.join(df_unique_tasks, how='right').reset_index(drop=True)\n",
    "    final_columns = ['user_id', 'name', 'email', 'instagram_handle', 'tiktok_handle', 'joined_at',          'program_id',\n",
    "                     'brand', 'total_sales_attributed', 'task_id', 'platform', 'post_url', 'likes', 'comments',\n",
    "                     'shares', 'reach']\n",
    "    return df[final_columns]\n",
    "\n",
    "\n",
    "normalised_df = normalise_data(samples_df)\n",
    "\n",
    "normalised_df[['user_id', 'program_id', 'task_id', 'email', 'instagram_handle', 'tiktok_handle', 'post_url', 'platform']] = (\n",
    "    normalised_df[['user_id', 'program_id', 'task_id', 'email', 'instagram_handle', 'tiktok_handle', 'post_url', 'platform']]\n",
    "    .astype(str)\n",
    ")\n",
    "normalised_df['name'] = normalised_df['name'].astype(str)\n",
    "normalised_df['brand'] = normalised_df['brand'].astype(str)\n",
    "normalised_df['platform'] = normalised_df['platform'].astype(str)\n",
    "normalised_df.loc[normalised_df['platform'] == 'Tiktok', 'platform'] = 'TikTok'\n",
    "normalised_df['joined_at'] = normalised_df['joined_at'].astype(str)\n",
    "normalised_df['likes'] = pd.to_numeric(normalised_df['likes'], errors='coerce').astype('Int64')\n",
    "normalised_df['comments'] = pd.to_numeric(normalised_df['comments'], errors='coerce').astype('Int64')\n",
    "normalised_df['shares'] = pd.to_numeric(normalised_df['shares'], errors='coerce').astype('Int64')\n",
    "normalised_df['reach'] = pd.to_numeric(normalised_df['reach'], errors='coerce').astype('Int64')\n",
    "# this was set to the observed max value so we can observe the real mean value\n",
    "normalised_df['total_sales_attributed'] = pd.to_numeric(normalised_df['total_sales_attributed'], errors='coerce').astype('Float64').fillna(4998.365222)"
   ],
   "id": "35329a825a72f57e",
   "outputs": [],
   "execution_count": 38
  },
  {
   "metadata": {
    "ExecuteTime": {
     "end_time": "2025-10-06T18:53:46.994097Z",
     "start_time": "2025-10-06T18:53:46.979441Z"
    }
   },
   "cell_type": "code",
   "source": [
    "import pandas as pd\n",
    "\n",
    "# Assuming df is your DataFrame\n",
    "print(\"Max values per column:\")\n",
    "print(normalised_df.max(numeric_only=True))\n",
    "\n",
    "print(\"\\nMin values per column:\")\n",
    "print(normalised_df.min(numeric_only=True))"
   ],
   "id": "d311014c9d5305e",
   "outputs": [
    {
     "name": "stdout",
     "output_type": "stream",
     "text": [
      "Max values per column:\n",
      "total_sales_attributed    4998.365222\n",
      "likes                           500.0\n",
      "comments                         50.0\n",
      "shares                          100.0\n",
      "reach                          9999.0\n",
      "dtype: Float64\n",
      "\n",
      "Min values per column:\n",
      "total_sales_attributed    101.77583\n",
      "likes                          10.0\n",
      "comments                        0.0\n",
      "shares                          0.0\n",
      "reach                       -1000.0\n",
      "dtype: Float64\n"
     ]
    }
   ],
   "execution_count": 39
  },
  {
   "metadata": {},
   "cell_type": "markdown",
   "source": "More statistical information observed after normalisation:",
   "id": "624624a18c916174"
  },
  {
   "metadata": {
    "ExecuteTime": {
     "end_time": "2025-10-06T18:53:53.314176Z",
     "start_time": "2025-10-06T18:53:53.241518Z"
    }
   },
   "cell_type": "code",
   "source": "display(normalised_df.describe(include='all'))",
   "id": "3adb576ea300db38",
   "outputs": [
    {
     "data": {
      "text/plain": [
       "       user_id  name          email instagram_handle  tiktok_handle  \\\n",
       "count     9989  9989           9989             9989           9989   \n",
       "unique    5462  5215           5713             5202           5204   \n",
       "top        nan   ???  invalid-email              nan  #error_handle   \n",
       "freq      4528  4764           4273             4785           4779   \n",
       "mean       NaN   NaN            NaN              NaN            NaN   \n",
       "std        NaN   NaN            NaN              NaN            NaN   \n",
       "min        NaN   NaN            NaN              NaN            NaN   \n",
       "25%        NaN   NaN            NaN              NaN            NaN   \n",
       "50%        NaN   NaN            NaN              NaN            NaN   \n",
       "75%        NaN   NaN            NaN              NaN            NaN   \n",
       "max        NaN   NaN            NaN              NaN            NaN   \n",
       "\n",
       "         joined_at program_id  brand  total_sales_attributed task_id platform  \\\n",
       "count         9989       9989   9989                  9989.0    9989     9989   \n",
       "unique        5334       5499   4848                    <NA>    5477        4   \n",
       "top     not-a-date             12345                    <NA>    None   TikTok   \n",
       "freq          4656       4491   4523                    <NA>    4513     3767   \n",
       "mean           NaN        NaN    NaN             3530.830299     NaN      NaN   \n",
       "std            NaN        NaN    NaN             1623.080917     NaN      NaN   \n",
       "min            NaN        NaN    NaN               101.77583     NaN      NaN   \n",
       "25%            NaN        NaN    NaN             2171.347406     NaN      NaN   \n",
       "50%            NaN        NaN    NaN             4189.189813     NaN      NaN   \n",
       "75%            NaN        NaN    NaN             4998.365222     NaN      NaN   \n",
       "max            NaN        NaN    NaN             4998.365222     NaN      NaN   \n",
       "\n",
       "           post_url       likes   comments     shares        reach  \n",
       "count          9989      5968.0     6424.0     9989.0       9989.0  \n",
       "unique         5943        <NA>       <NA>       <NA>         <NA>  \n",
       "top     broken_link        <NA>       <NA>       <NA>         <NA>  \n",
       "freq           4046        <NA>       <NA>       <NA>         <NA>  \n",
       "mean            NaN  253.440851  24.868306  50.149665  5050.643107  \n",
       "std             NaN  142.857539  14.637392  29.322314  2870.871179  \n",
       "min             NaN        10.0        0.0        0.0      -1000.0  \n",
       "25%             NaN       128.0       12.0       25.0       2658.0  \n",
       "50%             NaN       253.0       25.0       50.0       5103.0  \n",
       "75%             NaN       378.0       37.0       76.0       7476.0  \n",
       "max             NaN       500.0       50.0      100.0       9999.0  "
      ],
      "text/html": [
       "<div>\n",
       "<style scoped>\n",
       "    .dataframe tbody tr th:only-of-type {\n",
       "        vertical-align: middle;\n",
       "    }\n",
       "\n",
       "    .dataframe tbody tr th {\n",
       "        vertical-align: top;\n",
       "    }\n",
       "\n",
       "    .dataframe thead th {\n",
       "        text-align: right;\n",
       "    }\n",
       "</style>\n",
       "<table border=\"1\" class=\"dataframe\">\n",
       "  <thead>\n",
       "    <tr style=\"text-align: right;\">\n",
       "      <th></th>\n",
       "      <th>user_id</th>\n",
       "      <th>name</th>\n",
       "      <th>email</th>\n",
       "      <th>instagram_handle</th>\n",
       "      <th>tiktok_handle</th>\n",
       "      <th>joined_at</th>\n",
       "      <th>program_id</th>\n",
       "      <th>brand</th>\n",
       "      <th>total_sales_attributed</th>\n",
       "      <th>task_id</th>\n",
       "      <th>platform</th>\n",
       "      <th>post_url</th>\n",
       "      <th>likes</th>\n",
       "      <th>comments</th>\n",
       "      <th>shares</th>\n",
       "      <th>reach</th>\n",
       "    </tr>\n",
       "  </thead>\n",
       "  <tbody>\n",
       "    <tr>\n",
       "      <th>count</th>\n",
       "      <td>9989</td>\n",
       "      <td>9989</td>\n",
       "      <td>9989</td>\n",
       "      <td>9989</td>\n",
       "      <td>9989</td>\n",
       "      <td>9989</td>\n",
       "      <td>9989</td>\n",
       "      <td>9989</td>\n",
       "      <td>9989.0</td>\n",
       "      <td>9989</td>\n",
       "      <td>9989</td>\n",
       "      <td>9989</td>\n",
       "      <td>5968.0</td>\n",
       "      <td>6424.0</td>\n",
       "      <td>9989.0</td>\n",
       "      <td>9989.0</td>\n",
       "    </tr>\n",
       "    <tr>\n",
       "      <th>unique</th>\n",
       "      <td>5462</td>\n",
       "      <td>5215</td>\n",
       "      <td>5713</td>\n",
       "      <td>5202</td>\n",
       "      <td>5204</td>\n",
       "      <td>5334</td>\n",
       "      <td>5499</td>\n",
       "      <td>4848</td>\n",
       "      <td>&lt;NA&gt;</td>\n",
       "      <td>5477</td>\n",
       "      <td>4</td>\n",
       "      <td>5943</td>\n",
       "      <td>&lt;NA&gt;</td>\n",
       "      <td>&lt;NA&gt;</td>\n",
       "      <td>&lt;NA&gt;</td>\n",
       "      <td>&lt;NA&gt;</td>\n",
       "    </tr>\n",
       "    <tr>\n",
       "      <th>top</th>\n",
       "      <td>nan</td>\n",
       "      <td>???</td>\n",
       "      <td>invalid-email</td>\n",
       "      <td>nan</td>\n",
       "      <td>#error_handle</td>\n",
       "      <td>not-a-date</td>\n",
       "      <td></td>\n",
       "      <td>12345</td>\n",
       "      <td>&lt;NA&gt;</td>\n",
       "      <td>None</td>\n",
       "      <td>TikTok</td>\n",
       "      <td>broken_link</td>\n",
       "      <td>&lt;NA&gt;</td>\n",
       "      <td>&lt;NA&gt;</td>\n",
       "      <td>&lt;NA&gt;</td>\n",
       "      <td>&lt;NA&gt;</td>\n",
       "    </tr>\n",
       "    <tr>\n",
       "      <th>freq</th>\n",
       "      <td>4528</td>\n",
       "      <td>4764</td>\n",
       "      <td>4273</td>\n",
       "      <td>4785</td>\n",
       "      <td>4779</td>\n",
       "      <td>4656</td>\n",
       "      <td>4491</td>\n",
       "      <td>4523</td>\n",
       "      <td>&lt;NA&gt;</td>\n",
       "      <td>4513</td>\n",
       "      <td>3767</td>\n",
       "      <td>4046</td>\n",
       "      <td>&lt;NA&gt;</td>\n",
       "      <td>&lt;NA&gt;</td>\n",
       "      <td>&lt;NA&gt;</td>\n",
       "      <td>&lt;NA&gt;</td>\n",
       "    </tr>\n",
       "    <tr>\n",
       "      <th>mean</th>\n",
       "      <td>NaN</td>\n",
       "      <td>NaN</td>\n",
       "      <td>NaN</td>\n",
       "      <td>NaN</td>\n",
       "      <td>NaN</td>\n",
       "      <td>NaN</td>\n",
       "      <td>NaN</td>\n",
       "      <td>NaN</td>\n",
       "      <td>3530.830299</td>\n",
       "      <td>NaN</td>\n",
       "      <td>NaN</td>\n",
       "      <td>NaN</td>\n",
       "      <td>253.440851</td>\n",
       "      <td>24.868306</td>\n",
       "      <td>50.149665</td>\n",
       "      <td>5050.643107</td>\n",
       "    </tr>\n",
       "    <tr>\n",
       "      <th>std</th>\n",
       "      <td>NaN</td>\n",
       "      <td>NaN</td>\n",
       "      <td>NaN</td>\n",
       "      <td>NaN</td>\n",
       "      <td>NaN</td>\n",
       "      <td>NaN</td>\n",
       "      <td>NaN</td>\n",
       "      <td>NaN</td>\n",
       "      <td>1623.080917</td>\n",
       "      <td>NaN</td>\n",
       "      <td>NaN</td>\n",
       "      <td>NaN</td>\n",
       "      <td>142.857539</td>\n",
       "      <td>14.637392</td>\n",
       "      <td>29.322314</td>\n",
       "      <td>2870.871179</td>\n",
       "    </tr>\n",
       "    <tr>\n",
       "      <th>min</th>\n",
       "      <td>NaN</td>\n",
       "      <td>NaN</td>\n",
       "      <td>NaN</td>\n",
       "      <td>NaN</td>\n",
       "      <td>NaN</td>\n",
       "      <td>NaN</td>\n",
       "      <td>NaN</td>\n",
       "      <td>NaN</td>\n",
       "      <td>101.77583</td>\n",
       "      <td>NaN</td>\n",
       "      <td>NaN</td>\n",
       "      <td>NaN</td>\n",
       "      <td>10.0</td>\n",
       "      <td>0.0</td>\n",
       "      <td>0.0</td>\n",
       "      <td>-1000.0</td>\n",
       "    </tr>\n",
       "    <tr>\n",
       "      <th>25%</th>\n",
       "      <td>NaN</td>\n",
       "      <td>NaN</td>\n",
       "      <td>NaN</td>\n",
       "      <td>NaN</td>\n",
       "      <td>NaN</td>\n",
       "      <td>NaN</td>\n",
       "      <td>NaN</td>\n",
       "      <td>NaN</td>\n",
       "      <td>2171.347406</td>\n",
       "      <td>NaN</td>\n",
       "      <td>NaN</td>\n",
       "      <td>NaN</td>\n",
       "      <td>128.0</td>\n",
       "      <td>12.0</td>\n",
       "      <td>25.0</td>\n",
       "      <td>2658.0</td>\n",
       "    </tr>\n",
       "    <tr>\n",
       "      <th>50%</th>\n",
       "      <td>NaN</td>\n",
       "      <td>NaN</td>\n",
       "      <td>NaN</td>\n",
       "      <td>NaN</td>\n",
       "      <td>NaN</td>\n",
       "      <td>NaN</td>\n",
       "      <td>NaN</td>\n",
       "      <td>NaN</td>\n",
       "      <td>4189.189813</td>\n",
       "      <td>NaN</td>\n",
       "      <td>NaN</td>\n",
       "      <td>NaN</td>\n",
       "      <td>253.0</td>\n",
       "      <td>25.0</td>\n",
       "      <td>50.0</td>\n",
       "      <td>5103.0</td>\n",
       "    </tr>\n",
       "    <tr>\n",
       "      <th>75%</th>\n",
       "      <td>NaN</td>\n",
       "      <td>NaN</td>\n",
       "      <td>NaN</td>\n",
       "      <td>NaN</td>\n",
       "      <td>NaN</td>\n",
       "      <td>NaN</td>\n",
       "      <td>NaN</td>\n",
       "      <td>NaN</td>\n",
       "      <td>4998.365222</td>\n",
       "      <td>NaN</td>\n",
       "      <td>NaN</td>\n",
       "      <td>NaN</td>\n",
       "      <td>378.0</td>\n",
       "      <td>37.0</td>\n",
       "      <td>76.0</td>\n",
       "      <td>7476.0</td>\n",
       "    </tr>\n",
       "    <tr>\n",
       "      <th>max</th>\n",
       "      <td>NaN</td>\n",
       "      <td>NaN</td>\n",
       "      <td>NaN</td>\n",
       "      <td>NaN</td>\n",
       "      <td>NaN</td>\n",
       "      <td>NaN</td>\n",
       "      <td>NaN</td>\n",
       "      <td>NaN</td>\n",
       "      <td>4998.365222</td>\n",
       "      <td>NaN</td>\n",
       "      <td>NaN</td>\n",
       "      <td>NaN</td>\n",
       "      <td>500.0</td>\n",
       "      <td>50.0</td>\n",
       "      <td>100.0</td>\n",
       "      <td>9999.0</td>\n",
       "    </tr>\n",
       "  </tbody>\n",
       "</table>\n",
       "</div>"
      ]
     },
     "metadata": {},
     "output_type": "display_data"
    }
   ],
   "execution_count": 41
  },
  {
   "metadata": {
    "ExecuteTime": {
     "end_time": "2025-10-06T18:53:50.776923Z",
     "start_time": "2025-10-06T18:53:50.772433Z"
    }
   },
   "cell_type": "code",
   "source": "",
   "id": "9f210ac723daada7",
   "outputs": [],
   "execution_count": null
  },
  {
   "metadata": {
    "ExecuteTime": {
     "end_time": "2025-10-06T18:53:50.972273Z",
     "start_time": "2025-10-06T18:53:50.970883Z"
    }
   },
   "cell_type": "code",
   "source": "",
   "id": "3b04970da5651c9a",
   "outputs": [],
   "execution_count": null
  },
  {
   "metadata": {},
   "cell_type": "code",
   "outputs": [],
   "execution_count": null,
   "source": "",
   "id": "487a54d75bacb049"
  }
 ],
 "metadata": {
  "kernelspec": {
   "display_name": "Python 3",
   "language": "python",
   "name": "python3"
  },
  "language_info": {
   "codemirror_mode": {
    "name": "ipython",
    "version": 2
   },
   "file_extension": ".py",
   "mimetype": "text/x-python",
   "name": "python",
   "nbconvert_exporter": "python",
   "pygments_lexer": "ipython2",
   "version": "2.7.6"
  }
 },
 "nbformat": 4,
 "nbformat_minor": 5
}
